{
 "cells": [
  {
   "cell_type": "code",
   "execution_count": 1,
   "metadata": {},
   "outputs": [],
   "source": [
    "from IPython.display import display, HTML"
   ]
  },
  {
   "cell_type": "code",
   "execution_count": null,
   "metadata": {},
   "outputs": [],
   "source": []
  },
  {
   "cell_type": "code",
   "execution_count": 2,
   "metadata": {},
   "outputs": [
    {
     "data": {
      "text/html": [
       "<script src=\"http://d3js.org/d3.v3.min.js\" charset=\"utf-8\"></script>"
      ],
      "text/plain": [
       "<IPython.core.display.HTML object>"
      ]
     },
     "metadata": {},
     "output_type": "display_data"
    }
   ],
   "source": [
    "display(HTML(\"\"\"<script src=\"http://d3js.org/d3.v3.min.js\" charset=\"utf-8\"></script>\"\"\"))"
   ]
  },
  {
   "cell_type": "markdown",
   "metadata": {},
   "source": [
    "# Data from Python to JS"
   ]
  },
  {
   "cell_type": "code",
   "execution_count": 3,
   "metadata": {},
   "outputs": [
    {
     "data": {
      "text/html": [
       "\n",
       "<html>\n",
       "<head>\n",
       "</head>\n",
       "<body>\n",
       "<div id=\"container\"/>\n",
       "<script type=\"text/javascript\">\n",
       "data = [0, 1, 2, 3]\n",
       "\n",
       "function main(){\n",
       "    const svg = d3.select(\"#container\")\n",
       "    .append(\"svg\")\n",
       "    .style(\"width\", \"100px\")\n",
       "    .style(\"height\", \"100px\");\n",
       "    svg.selectAll(\"circle\")\n",
       "        .data(data)\n",
       "        .enter()\n",
       "        .append(\"circle\")\n",
       "        .attr(\"cx\", i => i*20)\n",
       "        .attr(\"cy\", (i,d) => d*20)\n",
       "        .attr(\"r\", 10);\n",
       "}\n",
       "main();\n",
       "\n",
       "</script>\n",
       "</body>\n",
       "</html>\n"
      ],
      "text/plain": [
       "<IPython.core.display.HTML object>"
      ]
     },
     "metadata": {},
     "output_type": "display_data"
    }
   ],
   "source": [
    "main = \"\"\"\n",
    "function main(){\n",
    "    const svg = d3.select(\"#container\")\n",
    "    .append(\"svg\")\n",
    "    .style(\"width\", \"100px\")\n",
    "    .style(\"height\", \"100px\");\n",
    "    svg.selectAll(\"circle\")\n",
    "        .data(data)\n",
    "        .enter()\n",
    "        .append(\"circle\")\n",
    "        .attr(\"cx\", i => i*20)\n",
    "        .attr(\"cy\", (i,d) => d*20)\n",
    "        .attr(\"r\", 10);\n",
    "}\n",
    "main();\n",
    "\"\"\"\n",
    "    \n",
    "html_str = \"\"\"\n",
    "<html>\n",
    "<head>\n",
    "</head>\n",
    "<body>\n",
    "<div id=\"container\"/>\n",
    "<script type=\"text/javascript\">\n",
    "data = {data}\n",
    "{main}\n",
    "</script>\n",
    "</body>\n",
    "</html>\n",
    "\"\"\".format(main=main, data=[0,1,2,3])\n",
    "display(HTML(html_str))"
   ]
  },
  {
   "cell_type": "code",
   "execution_count": null,
   "metadata": {},
   "outputs": [],
   "source": []
  },
  {
   "cell_type": "markdown",
   "metadata": {},
   "source": [
    "# Data from JS to Python"
   ]
  },
  {
   "cell_type": "code",
   "execution_count": 4,
   "metadata": {},
   "outputs": [],
   "source": [
    "def target_func(comm, open_msg):\n",
    "    # comm is the kernel Comm instance\n",
    "    # msg is the comm_open message\n",
    "\n",
    "    # Register handler for later messages\n",
    "    @comm.on_msg\n",
    "    def _recv(msg):\n",
    "        # Use msg['content']['data'] for the data in the message\n",
    "        comm.send({'echo': msg['content']['data']})\n",
    "\n",
    "    # Send data to the frontend on creation\n",
    "    comm.send({'foo': 5})\n",
    "\n",
    "get_ipython().kernel.comm_manager.register_target('my_comm_target', target_func)"
   ]
  },
  {
   "cell_type": "code",
   "execution_count": 5,
   "metadata": {},
   "outputs": [
    {
     "data": {
      "text/html": [
       "\n",
       "<script>\n",
       "function main(){\n",
       "    let comm = Jupyter.notebook.kernel.comm_manager.new_comm('my_comm_target', {'foo': 6})\n",
       "    // Send data\n",
       "    comm.send({'foo': 7})\n",
       "\n",
       "    // Register a handler\n",
       "    comm.on_msg(function(msg) {\n",
       "        console.log(msg.content.data.foo);\n",
       "    });\n",
       "}\n",
       "main()\n",
       "</script>\n"
      ],
      "text/plain": [
       "<IPython.core.display.HTML object>"
      ]
     },
     "metadata": {},
     "output_type": "display_data"
    }
   ],
   "source": [
    "display(HTML(\"\"\"\n",
    "<script>\n",
    "function main(){\n",
    "    let comm = Jupyter.notebook.kernel.comm_manager.new_comm('my_comm_target', {'foo': 6})\n",
    "    // Send data\n",
    "    comm.send({'foo': 7})\n",
    "\n",
    "    // Register a handler\n",
    "    comm.on_msg(function(msg) {\n",
    "        console.log(msg.content.data.foo);\n",
    "    });\n",
    "}\n",
    "main()\n",
    "</script>\n",
    "\"\"\"))"
   ]
  },
  {
   "cell_type": "markdown",
   "metadata": {},
   "source": [
    "Please see https://jupyter-notebook.readthedocs.io/en/stable/comms.html for more details"
   ]
  },
  {
   "cell_type": "code",
   "execution_count": null,
   "metadata": {},
   "outputs": [],
   "source": []
  }
 ],
 "metadata": {
  "kernelspec": {
   "display_name": "Python 3",
   "language": "python",
   "name": "python3"
  },
  "language_info": {
   "codemirror_mode": {
    "name": "ipython",
    "version": 3
   },
   "file_extension": ".py",
   "mimetype": "text/x-python",
   "name": "python",
   "nbconvert_exporter": "python",
   "pygments_lexer": "ipython3",
   "version": "3.7.6"
  }
 },
 "nbformat": 4,
 "nbformat_minor": 2
}
