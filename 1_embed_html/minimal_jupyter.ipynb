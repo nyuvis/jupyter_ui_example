{
 "cells": [
  {
   "cell_type": "code",
   "execution_count": 1,
   "metadata": {},
   "outputs": [],
   "source": [
    "from IPython.display import display, HTML\n",
    "import json"
   ]
  },
  {
   "cell_type": "code",
   "execution_count": 2,
   "metadata": {},
   "outputs": [
    {
     "data": {
      "application/javascript": [
       "require.config({\n",
       "    paths: {\n",
       "        d3: \"https://d3js.org/d3.v6.min\"\n",
       "     }\n",
       "});\n",
       "\n",
       "require([\"d3\"], function(d3) {\n",
       "    window.d3 = d3;\n",
       "});\n"
      ],
      "text/plain": [
       "<IPython.core.display.Javascript object>"
      ]
     },
     "metadata": {},
     "output_type": "display_data"
    }
   ],
   "source": [
    "%%javascript\n",
    "require.config({\n",
    "    paths: {\n",
    "        d3: \"https://d3js.org/d3.v6.min\"\n",
    "     }\n",
    "});\n",
    "\n",
    "require([\"d3\"], function(d3) {\n",
    "    window.d3 = d3;\n",
    "});"
   ]
  },
  {
   "cell_type": "markdown",
   "metadata": {},
   "source": [
    "# Simple HTML Embedding"
   ]
  },
  {
   "cell_type": "code",
   "execution_count": 3,
   "metadata": {},
   "outputs": [
    {
     "data": {
      "text/html": [
       "\n",
       "<html>\n",
       "<body>\n",
       "<div style=\"width:50px; height: 50px; background-color:#FF0000\"/>\n",
       "</body>\n",
       "</html>\n"
      ],
      "text/plain": [
       "<IPython.core.display.HTML object>"
      ]
     },
     "metadata": {},
     "output_type": "display_data"
    }
   ],
   "source": [
    "display(HTML(\"\"\"\n",
    "<html>\n",
    "<body>\n",
    "<div style=\"width:50px; height: 50px; background-color:#FF0000\"/>\n",
    "</body>\n",
    "</html>\n",
    "\"\"\"))"
   ]
  },
  {
   "cell_type": "markdown",
   "metadata": {},
   "source": [
    "# Calling an external library"
   ]
  },
  {
   "cell_type": "code",
   "execution_count": 4,
   "metadata": {},
   "outputs": [
    {
     "data": {
      "text/html": [
       "\n",
       "<html>\n",
       "    <head>\n",
       "        <script>function circle(){\n",
       "    d3.select(\"#div_id\")\n",
       "    .append(\"div\")\n",
       "    .style(\"width\", \"50px\")\n",
       "    .style(\"height\", \"50px\")\n",
       "    .style(\"background-color\", \"#00CCCC\")\n",
       "    .style(\"border-radius\", \"50px\")\n",
       "}\n",
       "\n",
       "function bar_chart(div_id, data){\n",
       "    const div = d3.select(div_id)\n",
       "    const height = data.length * 20;\n",
       "    \n",
       "    const scaleY = d3.scaleBand()\n",
       "        .domain(d3.range(data.length))\n",
       "        .range([0, height])\n",
       "        .paddingInner(0.1);\n",
       "    const scaleX = d3.scaleLinear()\n",
       "        .domain(d3.extent(data))\n",
       "        .range([1, 120]);\n",
       "    \n",
       "    const svg = div.append(\"svg\")\n",
       "        .style(\"width\", \"120px\")\n",
       "        .style(\"height\", height+\"px\");\n",
       "    \n",
       "    svg.selectAll(\"rect\")\n",
       "        .data(data)\n",
       "        .enter()\n",
       "        .append(\"rect\")\n",
       "        .attr(\"x\", 0)\n",
       "        .attr(\"y\", (d, i) => scaleY(i))\n",
       "        .attr(\"width\", d => scaleX(d))\n",
       "        .attr(\"height\", scaleY.bandwidth);\n",
       "}\n",
       "</script>\n",
       "    </head>\n",
       "    <body>\n",
       "        <div id=\"div_id\"/>\n",
       "    </body>\n",
       "    <script>\n",
       "        circle();\n",
       "    </script>\n",
       "</html>\n"
      ],
      "text/plain": [
       "<IPython.core.display.HTML object>"
      ]
     },
     "metadata": {},
     "output_type": "display_data"
    }
   ],
   "source": [
    "with open('library.js', 'r') as f:\n",
    "    lib = f.read()\n",
    "my_html = \"\"\"\n",
    "<html>\n",
    "    <head>\n",
    "        <script>{library}</script>\n",
    "    </head>\n",
    "    <body>\n",
    "        <div id=\"div_id\"/>\n",
    "    </body>\n",
    "    <script>\n",
    "        circle();\n",
    "    </script>\n",
    "</html>\n",
    "\"\"\".format(library=lib)\n",
    "\n",
    "display(HTML(my_html))"
   ]
  },
  {
   "cell_type": "code",
   "execution_count": null,
   "metadata": {},
   "outputs": [],
   "source": []
  },
  {
   "cell_type": "markdown",
   "metadata": {},
   "source": [
    "# Sending data from Python to JS"
   ]
  },
  {
   "cell_type": "code",
   "execution_count": 5,
   "metadata": {},
   "outputs": [
    {
     "data": {
      "text/html": [
       "\n",
       "<html>\n",
       "<head>\n",
       "</head>\n",
       "<body>\n",
       "<div id=\"div_data1\"/>\n",
       "</body>\n",
       "<script type=\"text/javascript\">\n",
       "function circle(){\n",
       "    d3.select(\"#div_id\")\n",
       "    .append(\"div\")\n",
       "    .style(\"width\", \"50px\")\n",
       "    .style(\"height\", \"50px\")\n",
       "    .style(\"background-color\", \"#00CCCC\")\n",
       "    .style(\"border-radius\", \"50px\")\n",
       "}\n",
       "\n",
       "function bar_chart(div_id, data){\n",
       "    const div = d3.select(div_id)\n",
       "    const height = data.length * 20;\n",
       "    \n",
       "    const scaleY = d3.scaleBand()\n",
       "        .domain(d3.range(data.length))\n",
       "        .range([0, height])\n",
       "        .paddingInner(0.1);\n",
       "    const scaleX = d3.scaleLinear()\n",
       "        .domain(d3.extent(data))\n",
       "        .range([1, 120]);\n",
       "    \n",
       "    const svg = div.append(\"svg\")\n",
       "        .style(\"width\", \"120px\")\n",
       "        .style(\"height\", height+\"px\");\n",
       "    \n",
       "    svg.selectAll(\"rect\")\n",
       "        .data(data)\n",
       "        .enter()\n",
       "        .append(\"rect\")\n",
       "        .attr(\"x\", 0)\n",
       "        .attr(\"y\", (d, i) => scaleY(i))\n",
       "        .attr(\"width\", d => scaleX(d))\n",
       "        .attr(\"height\", scaleY.bandwidth);\n",
       "}\n",
       "\n",
       "bar_chart(\"#div_data1\", [0, 1, 2, 3, 4])\n",
       "</script>\n",
       "</html>\n"
      ],
      "text/plain": [
       "<IPython.core.display.HTML object>"
      ]
     },
     "metadata": {},
     "output_type": "display_data"
    }
   ],
   "source": [
    "with open('library.js', 'r') as f:\n",
    "    lib = f.read()\n",
    "\n",
    "html_str = \"\"\"\n",
    "<html>\n",
    "<head>\n",
    "</head>\n",
    "<body>\n",
    "<div id=\"div_data1\"/>\n",
    "</body>\n",
    "<script type=\"text/javascript\">\n",
    "{library}\n",
    "bar_chart(\"#div_data1\", {data})\n",
    "</script>\n",
    "</html>\n",
    "\"\"\".format(library=lib, data=json.dumps([0,1,2,3,4]))\n",
    "display(HTML(html_str))"
   ]
  },
  {
   "cell_type": "code",
   "execution_count": null,
   "metadata": {},
   "outputs": [],
   "source": []
  },
  {
   "cell_type": "markdown",
   "metadata": {},
   "source": [
    "# Sending data from JS to Python"
   ]
  },
  {
   "cell_type": "code",
   "execution_count": 6,
   "metadata": {},
   "outputs": [],
   "source": [
    "def target_func(comm, open_msg):\n",
    "    # comm is the kernel Comm instance\n",
    "\n",
    "    # Register handler for later messages\n",
    "    @comm.on_msg\n",
    "    def _recv(msg):\n",
    "        # Use msg['content']['data'] for the data in the message\n",
    "        n = msg['content']['data']['n']\n",
    "        comm.send({'array': list(range(n))})\n",
    "\n",
    "get_ipython().kernel.comm_manager.register_target('my_comm_target', target_func)"
   ]
  },
  {
   "cell_type": "code",
   "execution_count": 7,
   "metadata": {},
   "outputs": [
    {
     "data": {
      "text/html": [
       "\n",
       "<html>\n",
       "<body>\n",
       "<div id=\"div_receive_data\"/>\n",
       "</body>\n",
       "<script>\n",
       "function circle(){\n",
       "    d3.select(\"#div_id\")\n",
       "    .append(\"div\")\n",
       "    .style(\"width\", \"50px\")\n",
       "    .style(\"height\", \"50px\")\n",
       "    .style(\"background-color\", \"#00CCCC\")\n",
       "    .style(\"border-radius\", \"50px\")\n",
       "}\n",
       "\n",
       "function bar_chart(div_id, data){\n",
       "    const div = d3.select(div_id)\n",
       "    const height = data.length * 20;\n",
       "    \n",
       "    const scaleY = d3.scaleBand()\n",
       "        .domain(d3.range(data.length))\n",
       "        .range([0, height])\n",
       "        .paddingInner(0.1);\n",
       "    const scaleX = d3.scaleLinear()\n",
       "        .domain(d3.extent(data))\n",
       "        .range([1, 120]);\n",
       "    \n",
       "    const svg = div.append(\"svg\")\n",
       "        .style(\"width\", \"120px\")\n",
       "        .style(\"height\", height+\"px\");\n",
       "    \n",
       "    svg.selectAll(\"rect\")\n",
       "        .data(data)\n",
       "        .enter()\n",
       "        .append(\"rect\")\n",
       "        .attr(\"x\", 0)\n",
       "        .attr(\"y\", (d, i) => scaleY(i))\n",
       "        .attr(\"width\", d => scaleX(d))\n",
       "        .attr(\"height\", scaleY.bandwidth);\n",
       "}\n",
       "\n",
       "function main(){\n",
       "    let comm = Jupyter.notebook.kernel.comm_manager.new_comm('my_comm_target')\n",
       "    // Send data\n",
       "    comm.send({'n': 3})\n",
       "\n",
       "    // Register a handler\n",
       "    comm.on_msg(function(msg) {\n",
       "        let data = msg.content.data.array;\n",
       "        bar_chart(\"#div_receive_data\", data)\n",
       "    });\n",
       "}\n",
       "main()\n",
       "</script>\n",
       "</html>\n"
      ],
      "text/plain": [
       "<IPython.core.display.HTML object>"
      ]
     },
     "metadata": {},
     "output_type": "display_data"
    }
   ],
   "source": [
    "from string import Template\n",
    "\n",
    "with open('library.js', 'r') as f:\n",
    "    lib = f.read()\n",
    "\n",
    "template = Template(\"\"\"\n",
    "<html>\n",
    "<body>\n",
    "<div id=\"div_receive_data\"/>\n",
    "</body>\n",
    "<script>\n",
    "$library\n",
    "function main(){\n",
    "    let comm = Jupyter.notebook.kernel.comm_manager.new_comm('my_comm_target')\n",
    "    // Send data\n",
    "    comm.send({'n': 3})\n",
    "\n",
    "    // Register a handler\n",
    "    comm.on_msg(function(msg) {\n",
    "        let data = msg.content.data.array;\n",
    "        bar_chart(\"#div_receive_data\", data)\n",
    "    });\n",
    "}\n",
    "main()\n",
    "</script>\n",
    "</html>\n",
    "\"\"\")\n",
    "my_html = template.safe_substitute(library=lib)\n",
    "display(HTML(my_html))"
   ]
  },
  {
   "cell_type": "markdown",
   "metadata": {},
   "source": [
    "Please see https://jupyter-notebook.readthedocs.io/en/stable/comms.html for more details"
   ]
  },
  {
   "cell_type": "code",
   "execution_count": null,
   "metadata": {},
   "outputs": [],
   "source": []
  }
 ],
 "metadata": {
  "kernelspec": {
   "display_name": "Python 3",
   "language": "python",
   "name": "python3"
  },
  "language_info": {
   "codemirror_mode": {
    "name": "ipython",
    "version": 3
   },
   "file_extension": ".py",
   "mimetype": "text/x-python",
   "name": "python",
   "nbconvert_exporter": "python",
   "pygments_lexer": "ipython3",
   "version": "3.6.9"
  }
 },
 "nbformat": 4,
 "nbformat_minor": 2
}
